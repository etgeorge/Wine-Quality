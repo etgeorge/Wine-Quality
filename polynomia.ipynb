{
 "cells": [
  {
   "cell_type": "code",
   "execution_count": 18,
   "id": "59281274-d800-49dd-bd6e-5041bae2b6a0",
   "metadata": {},
   "outputs": [],
   "source": [
    "import pandas as pd\n",
    "import numpy as np\n",
    "import matplotlib.pyplot as plt\n",
    "import re"
   ]
  },
  {
   "cell_type": "code",
   "execution_count": 19,
   "id": "b803f696-3b8a-4115-b9e7-86fbb804bbca",
   "metadata": {},
   "outputs": [],
   "source": [
    "data_red = pd.read_csv('winequality-red.csv')\n",
    "data_white = pd.read_csv('winequality-white.csv')"
   ]
  },
  {
   "cell_type": "code",
   "execution_count": 20,
   "id": "51a4b492-fd84-45aa-a30e-15cc6d926eb1",
   "metadata": {},
   "outputs": [
    {
     "data": {
      "text/html": [
       "<div>\n",
       "<style scoped>\n",
       "    .dataframe tbody tr th:only-of-type {\n",
       "        vertical-align: middle;\n",
       "    }\n",
       "\n",
       "    .dataframe tbody tr th {\n",
       "        vertical-align: top;\n",
       "    }\n",
       "\n",
       "    .dataframe thead th {\n",
       "        text-align: right;\n",
       "    }\n",
       "</style>\n",
       "<table border=\"1\" class=\"dataframe\">\n",
       "  <thead>\n",
       "    <tr style=\"text-align: right;\">\n",
       "      <th></th>\n",
       "      <th>fixed acidity;\"volatile acidity\";\"citric acid\";\"residual sugar\";\"chlorides\";\"free sulfur dioxide\";\"total sulfur dioxide\";\"density\";\"pH\";\"sulphates\";\"alcohol\";\"quality\"</th>\n",
       "    </tr>\n",
       "  </thead>\n",
       "  <tbody>\n",
       "    <tr>\n",
       "      <th>0</th>\n",
       "      <td>7.4;0.7;0;1.9;0.076;11;34;0.9978;3.51;0.56;9.4;5</td>\n",
       "    </tr>\n",
       "    <tr>\n",
       "      <th>1</th>\n",
       "      <td>7.8;0.88;0;2.6;0.098;25;67;0.9968;3.2;0.68;9.8;5</td>\n",
       "    </tr>\n",
       "    <tr>\n",
       "      <th>2</th>\n",
       "      <td>7.8;0.76;0.04;2.3;0.092;15;54;0.997;3.26;0.65;...</td>\n",
       "    </tr>\n",
       "    <tr>\n",
       "      <th>3</th>\n",
       "      <td>11.2;0.28;0.56;1.9;0.075;17;60;0.998;3.16;0.58...</td>\n",
       "    </tr>\n",
       "    <tr>\n",
       "      <th>4</th>\n",
       "      <td>7.4;0.7;0;1.9;0.076;11;34;0.9978;3.51;0.56;9.4;5</td>\n",
       "    </tr>\n",
       "  </tbody>\n",
       "</table>\n",
       "</div>"
      ],
      "text/plain": [
       "  fixed acidity;\"volatile acidity\";\"citric acid\";\"residual sugar\";\"chlorides\";\"free sulfur dioxide\";\"total sulfur dioxide\";\"density\";\"pH\";\"sulphates\";\"alcohol\";\"quality\"\n",
       "0   7.4;0.7;0;1.9;0.076;11;34;0.9978;3.51;0.56;9.4;5                                                                                                                     \n",
       "1   7.8;0.88;0;2.6;0.098;25;67;0.9968;3.2;0.68;9.8;5                                                                                                                     \n",
       "2  7.8;0.76;0.04;2.3;0.092;15;54;0.997;3.26;0.65;...                                                                                                                     \n",
       "3  11.2;0.28;0.56;1.9;0.075;17;60;0.998;3.16;0.58...                                                                                                                     \n",
       "4   7.4;0.7;0;1.9;0.076;11;34;0.9978;3.51;0.56;9.4;5                                                                                                                     "
      ]
     },
     "execution_count": 20,
     "metadata": {},
     "output_type": "execute_result"
    }
   ],
   "source": [
    "data_red.head()"
   ]
  },
  {
   "cell_type": "code",
   "execution_count": null,
   "id": "41116cb6-0a17-4c90-8b87-d4ee6b9405d8",
   "metadata": {},
   "outputs": [],
   "source": []
  },
  {
   "cell_type": "code",
   "execution_count": 21,
   "id": "cd71505c-4884-40f7-b88a-eb7aa7661b46",
   "metadata": {},
   "outputs": [
    {
     "data": {
      "text/html": [
       "<div>\n",
       "<style scoped>\n",
       "    .dataframe tbody tr th:only-of-type {\n",
       "        vertical-align: middle;\n",
       "    }\n",
       "\n",
       "    .dataframe tbody tr th {\n",
       "        vertical-align: top;\n",
       "    }\n",
       "\n",
       "    .dataframe thead th {\n",
       "        text-align: right;\n",
       "    }\n",
       "</style>\n",
       "<table border=\"1\" class=\"dataframe\">\n",
       "  <thead>\n",
       "    <tr style=\"text-align: right;\">\n",
       "      <th></th>\n",
       "      <th>old</th>\n",
       "    </tr>\n",
       "  </thead>\n",
       "  <tbody>\n",
       "    <tr>\n",
       "      <th>0</th>\n",
       "      <td>7.4;0.7;0;1.9;0.076;11;34;0.9978;3.51;0.56;9.4;5</td>\n",
       "    </tr>\n",
       "    <tr>\n",
       "      <th>1</th>\n",
       "      <td>7.8;0.88;0;2.6;0.098;25;67;0.9968;3.2;0.68;9.8;5</td>\n",
       "    </tr>\n",
       "    <tr>\n",
       "      <th>2</th>\n",
       "      <td>7.8;0.76;0.04;2.3;0.092;15;54;0.997;3.26;0.65;...</td>\n",
       "    </tr>\n",
       "    <tr>\n",
       "      <th>3</th>\n",
       "      <td>11.2;0.28;0.56;1.9;0.075;17;60;0.998;3.16;0.58...</td>\n",
       "    </tr>\n",
       "    <tr>\n",
       "      <th>4</th>\n",
       "      <td>7.4;0.7;0;1.9;0.076;11;34;0.9978;3.51;0.56;9.4;5</td>\n",
       "    </tr>\n",
       "  </tbody>\n",
       "</table>\n",
       "</div>"
      ],
      "text/plain": [
       "                                                 old\n",
       "0   7.4;0.7;0;1.9;0.076;11;34;0.9978;3.51;0.56;9.4;5\n",
       "1   7.8;0.88;0;2.6;0.098;25;67;0.9968;3.2;0.68;9.8;5\n",
       "2  7.8;0.76;0.04;2.3;0.092;15;54;0.997;3.26;0.65;...\n",
       "3  11.2;0.28;0.56;1.9;0.075;17;60;0.998;3.16;0.58...\n",
       "4   7.4;0.7;0;1.9;0.076;11;34;0.9978;3.51;0.56;9.4;5"
      ]
     },
     "execution_count": 21,
     "metadata": {},
     "output_type": "execute_result"
    }
   ],
   "source": [
    "data_red = data_red.set_axis(['old'],axis=1, inplace = False)\n",
    "data_red.head()"
   ]
  },
  {
   "cell_type": "code",
   "execution_count": 22,
   "id": "7b855939-5f2c-44e3-a243-65299ddb9194",
   "metadata": {},
   "outputs": [],
   "source": [
    "data_red = data_red['old'].str.split(';', expand=True)"
   ]
  },
  {
   "cell_type": "code",
   "execution_count": 23,
   "id": "2617844d-261e-409d-b0e3-2864ecf21117",
   "metadata": {},
   "outputs": [],
   "source": [
    "cols = data_white.columns.values\n",
    "col = np.array2string(data_white.columns.values).split(';')\n",
    "s = []\n",
    "for c in col:\n",
    "    s.append(re.sub((r'\\W+'), '',c))"
   ]
  },
  {
   "cell_type": "code",
   "execution_count": 24,
   "id": "cc797135-239e-482f-8044-ff72ce77c060",
   "metadata": {},
   "outputs": [],
   "source": [
    "data_red = data_red.set_axis(s,axis=1,inplace = False)"
   ]
  },
  {
   "cell_type": "code",
   "execution_count": 25,
   "id": "a754aabe-7ea6-46c9-bb2e-246e64d6a8d5",
   "metadata": {},
   "outputs": [
    {
     "data": {
      "text/html": [
       "<div>\n",
       "<style scoped>\n",
       "    .dataframe tbody tr th:only-of-type {\n",
       "        vertical-align: middle;\n",
       "    }\n",
       "\n",
       "    .dataframe tbody tr th {\n",
       "        vertical-align: top;\n",
       "    }\n",
       "\n",
       "    .dataframe thead th {\n",
       "        text-align: right;\n",
       "    }\n",
       "</style>\n",
       "<table border=\"1\" class=\"dataframe\">\n",
       "  <thead>\n",
       "    <tr style=\"text-align: right;\">\n",
       "      <th></th>\n",
       "      <th>fixedacidity</th>\n",
       "      <th>volatileacidity</th>\n",
       "      <th>citricacid</th>\n",
       "      <th>residualsugar</th>\n",
       "      <th>chlorides</th>\n",
       "      <th>freesulfurdioxide</th>\n",
       "      <th>totalsulfurdioxide</th>\n",
       "      <th>density</th>\n",
       "      <th>pH</th>\n",
       "      <th>sulphates</th>\n",
       "      <th>alcohol</th>\n",
       "      <th>quality</th>\n",
       "    </tr>\n",
       "  </thead>\n",
       "  <tbody>\n",
       "    <tr>\n",
       "      <th>0</th>\n",
       "      <td>7.4</td>\n",
       "      <td>0.7</td>\n",
       "      <td>0</td>\n",
       "      <td>1.9</td>\n",
       "      <td>0.076</td>\n",
       "      <td>11</td>\n",
       "      <td>34</td>\n",
       "      <td>0.9978</td>\n",
       "      <td>3.51</td>\n",
       "      <td>0.56</td>\n",
       "      <td>9.4</td>\n",
       "      <td>5</td>\n",
       "    </tr>\n",
       "    <tr>\n",
       "      <th>1</th>\n",
       "      <td>7.8</td>\n",
       "      <td>0.88</td>\n",
       "      <td>0</td>\n",
       "      <td>2.6</td>\n",
       "      <td>0.098</td>\n",
       "      <td>25</td>\n",
       "      <td>67</td>\n",
       "      <td>0.9968</td>\n",
       "      <td>3.2</td>\n",
       "      <td>0.68</td>\n",
       "      <td>9.8</td>\n",
       "      <td>5</td>\n",
       "    </tr>\n",
       "    <tr>\n",
       "      <th>2</th>\n",
       "      <td>7.8</td>\n",
       "      <td>0.76</td>\n",
       "      <td>0.04</td>\n",
       "      <td>2.3</td>\n",
       "      <td>0.092</td>\n",
       "      <td>15</td>\n",
       "      <td>54</td>\n",
       "      <td>0.997</td>\n",
       "      <td>3.26</td>\n",
       "      <td>0.65</td>\n",
       "      <td>9.8</td>\n",
       "      <td>5</td>\n",
       "    </tr>\n",
       "    <tr>\n",
       "      <th>3</th>\n",
       "      <td>11.2</td>\n",
       "      <td>0.28</td>\n",
       "      <td>0.56</td>\n",
       "      <td>1.9</td>\n",
       "      <td>0.075</td>\n",
       "      <td>17</td>\n",
       "      <td>60</td>\n",
       "      <td>0.998</td>\n",
       "      <td>3.16</td>\n",
       "      <td>0.58</td>\n",
       "      <td>9.8</td>\n",
       "      <td>6</td>\n",
       "    </tr>\n",
       "    <tr>\n",
       "      <th>4</th>\n",
       "      <td>7.4</td>\n",
       "      <td>0.7</td>\n",
       "      <td>0</td>\n",
       "      <td>1.9</td>\n",
       "      <td>0.076</td>\n",
       "      <td>11</td>\n",
       "      <td>34</td>\n",
       "      <td>0.9978</td>\n",
       "      <td>3.51</td>\n",
       "      <td>0.56</td>\n",
       "      <td>9.4</td>\n",
       "      <td>5</td>\n",
       "    </tr>\n",
       "  </tbody>\n",
       "</table>\n",
       "</div>"
      ],
      "text/plain": [
       "  fixedacidity volatileacidity citricacid residualsugar chlorides  \\\n",
       "0          7.4             0.7          0           1.9     0.076   \n",
       "1          7.8            0.88          0           2.6     0.098   \n",
       "2          7.8            0.76       0.04           2.3     0.092   \n",
       "3         11.2            0.28       0.56           1.9     0.075   \n",
       "4          7.4             0.7          0           1.9     0.076   \n",
       "\n",
       "  freesulfurdioxide totalsulfurdioxide density    pH sulphates alcohol quality  \n",
       "0                11                 34  0.9978  3.51      0.56     9.4       5  \n",
       "1                25                 67  0.9968   3.2      0.68     9.8       5  \n",
       "2                15                 54   0.997  3.26      0.65     9.8       5  \n",
       "3                17                 60   0.998  3.16      0.58     9.8       6  \n",
       "4                11                 34  0.9978  3.51      0.56     9.4       5  "
      ]
     },
     "execution_count": 25,
     "metadata": {},
     "output_type": "execute_result"
    }
   ],
   "source": [
    "data_red.head()"
   ]
  },
  {
   "cell_type": "code",
   "execution_count": 26,
   "id": "db57bb34-68a2-4d81-b602-df7ab5e7885d",
   "metadata": {},
   "outputs": [],
   "source": [
    "data_red[s] = data_red[s].astype(float) #covert string data to numerical data"
   ]
  },
  {
   "cell_type": "code",
   "execution_count": 27,
   "id": "6f38706c-c2da-44a2-bc1c-0f167fcfb9be",
   "metadata": {},
   "outputs": [],
   "source": [
    "from sklearn.model_selection import train_test_split\n",
    "from sklearn.preprocessing import StandardScaler"
   ]
  },
  {
   "cell_type": "code",
   "execution_count": 28,
   "id": "72b85d51-da04-41fe-aaff-259effb05451",
   "metadata": {},
   "outputs": [],
   "source": [
    "# separate the data into training and response\n",
    "X = data_red.drop('quality', axis=1)\n",
    "y = data_red['quality']\n",
    "X_train, X_test, y_train, y_test = train_test_split(X, y, test_size=0.2, random_state=50)\n",
    "X_train, X_validate, y_train, y_validate = train_test_split(X_train, y_train, test_size=0.25, random_state=50)\n",
    "\n",
    "\n",
    "# rescaling using standardized scaling\n",
    "sc = StandardScaler()\n",
    "X_train = sc.fit_transform(X_train)\n",
    "X_validate = sc.fit_transform(X_validate)\n",
    "X_test = sc.fit_transform(X_test)\n",
    "\n",
    "#we lock away X_test, y_test for final model"
   ]
  },
  {
   "cell_type": "code",
   "execution_count": 29,
   "id": "f3483722-7b25-4ff4-b06b-141285fc2754",
   "metadata": {},
   "outputs": [],
   "source": [
    "from sklearn import linear_model\n",
    "from sklearn.metrics import mean_squared_error"
   ]
  },
  {
   "cell_type": "code",
   "execution_count": 30,
   "id": "4aa35803-1b5e-49ff-9072-43baffc89fdb",
   "metadata": {},
   "outputs": [],
   "source": [
    "# run linear regression model \n",
    "reg = linear_model.LinearRegression()\n",
    "reg.fit(X_train, y_train)\n",
    "y_pred = reg.predict(X_validate)\n",
    "#reg.coef_"
   ]
  },
  {
   "cell_type": "code",
   "execution_count": 31,
   "id": "baeea238-eb2d-4139-a30c-803df10002ee",
   "metadata": {},
   "outputs": [
    {
     "name": "stdout",
     "output_type": "stream",
     "text": [
      "0.5923437500000001\n"
     ]
    },
    {
     "data": {
      "text/plain": [
       "5.5125"
      ]
     },
     "execution_count": 31,
     "metadata": {},
     "output_type": "execute_result"
    }
   ],
   "source": [
    "#create a dummy model to compare to\n",
    "y_mean = np.array(y_validate)\n",
    "y_mean.fill(np.mean(y_validate))\n",
    "print(mean_squared_error(y_validate, y_mean))\n",
    "np.mean(y_test)"
   ]
  },
  {
   "cell_type": "code",
   "execution_count": 32,
   "id": "66fac8de-e6c4-4079-81c7-3ae1728d1c43",
   "metadata": {},
   "outputs": [
    {
     "name": "stdout",
     "output_type": "stream",
     "text": [
      "0.34557551417770604\n"
     ]
    },
    {
     "data": {
      "image/png": "[encoded data removed]",
      "text/plain": [
       "<Figure size 432x288 with 1 Axes>"
      ]
     },
     "metadata": {
      "needs_background": "light"
     },
     "output_type": "display_data"
    }
   ],
   "source": [
    "#from sklearn.metrics import mean_squared_error, r2_score\n",
    "# mean square error \n",
    "print(mean_squared_error(y_validate, y_pred))\n",
    "# y vs ypred\n",
    "plt.scatter(y_validate, y_pred)\n",
    "plt.show()\n",
    "\n",
    "# so it's better than our dummy model"
   ]
  },
  {
   "cell_type": "code",
   "execution_count": 33,
   "id": "020ef260-793a-4fc2-9756-a5839d73df26",
   "metadata": {},
   "outputs": [],
   "source": [
    "# using gradient descent\n",
    "from sklearn.linear_model import SGDRegressor\n",
    "clf = SGDRegressor(alpha=0.0001, penalty = 'elasticnet')\n",
    "clf.fit(X_train, y_train)\n",
    "y_pred_gd = clf.predict(X_validate)"
   ]
  },
  {
   "cell_type": "code",
   "execution_count": 34,
   "id": "14d95390-907e-4b55-a417-a2a96b5eae94",
   "metadata": {},
   "outputs": [
    {
     "data": {
      "image/png": "[encoded data removed]",
      "text/plain": [
       "<Figure size 432x288 with 1 Axes>"
      ]
     },
     "metadata": {
      "needs_background": "light"
     },
     "output_type": "display_data"
    },
    {
     "name": "stdout",
     "output_type": "stream",
     "text": [
      "0.3501127419016446\n"
     ]
    }
   ],
   "source": [
    "plt.scatter(y_validate, y_pred_gd)\n",
    "plt.show()\n",
    "\n",
    "print(mean_squared_error(y_validate, y_pred_gd))"
   ]
  },
  {
   "cell_type": "code",
   "execution_count": 35,
   "id": "62f706f1-4cbb-4d50-9d94-0eeaade4c7e6",
   "metadata": {},
   "outputs": [],
   "source": [
    "#We need to tune hyperparamters\n",
    "#Are these good ranges for hyperparameters?\n",
    "#Tune penalty and alpha, with alpha being 10^-1,-2,-3...\n",
    "params = {'alpha': [0.1,0.001,0.0001,0.00001,0.000001], 'penalty':['l1','l2','elasticnet']}"
   ]
  },
  {
   "cell_type": "code",
   "execution_count": 36,
   "id": "1ffb8a45-6213-42d7-bf06-b30962b77e38",
   "metadata": {},
   "outputs": [
    {
     "data": {
      "text/plain": [
       "{'mean_fit_time': array([0.00237584, 0.00141664, 0.00171289, 0.00161748, 0.00132399,\n",
       "        0.00152292, 0.00155711, 0.00132298, 0.00153689, 0.00157409,\n",
       "        0.00128846, 0.00152435, 0.00161142, 0.00130472, 0.00157747]),\n",
       " 'std_fit_time': array([6.27658091e-04, 6.91669351e-05, 1.27307091e-04, 1.00499175e-04,\n",
       "        6.76101284e-05, 5.49620968e-05, 1.29074014e-04, 4.25340349e-05,\n",
       "        9.83979097e-05, 1.34444015e-04, 3.38794059e-05, 5.77677147e-05,\n",
       "        1.73877177e-04, 1.70535795e-05, 1.22718154e-04]),\n",
       " 'mean_score_time': array([0.00044742, 0.00039949, 0.00037556, 0.00036178, 0.00037894,\n",
       "        0.00036726, 0.00035114, 0.00036201, 0.00037265, 0.00034976,\n",
       "        0.00036707, 0.00036998, 0.00034719, 0.00037899, 0.00036893]),\n",
       " 'std_score_time': array([1.07202135e-04, 5.88966280e-06, 1.65870806e-05, 1.35060285e-05,\n",
       "        8.62877649e-06, 5.89930630e-06, 6.24347202e-06, 4.75547955e-06,\n",
       "        1.30717756e-05, 4.37288533e-06, 6.72424933e-06, 4.26069410e-06,\n",
       "        8.44876865e-06, 8.35567836e-06, 3.59561778e-06]),\n",
       " 'param_alpha': masked_array(data=[0.1, 0.1, 0.1, 0.001, 0.001, 0.001, 0.0001, 0.0001,\n",
       "                    0.0001, 1e-05, 1e-05, 1e-05, 1e-06, 1e-06, 1e-06],\n",
       "              mask=[False, False, False, False, False, False, False, False,\n",
       "                    False, False, False, False, False, False, False],\n",
       "        fill_value='?',\n",
       "             dtype=object),\n",
       " 'param_penalty': masked_array(data=['l1', 'l2', 'elasticnet', 'l1', 'l2', 'elasticnet',\n",
       "                    'l1', 'l2', 'elasticnet', 'l1', 'l2', 'elasticnet',\n",
       "                    'l1', 'l2', 'elasticnet'],\n",
       "              mask=[False, False, False, False, False, False, False, False,\n",
       "                    False, False, False, False, False, False, False],\n",
       "        fill_value='?',\n",
       "             dtype=object),\n",
       " 'params': [{'alpha': 0.1, 'penalty': 'l1'},\n",
       "  {'alpha': 0.1, 'penalty': 'l2'},\n",
       "  {'alpha': 0.1, 'penalty': 'elasticnet'},\n",
       "  {'alpha': 0.001, 'penalty': 'l1'},\n",
       "  {'alpha': 0.001, 'penalty': 'l2'},\n",
       "  {'alpha': 0.001, 'penalty': 'elasticnet'},\n",
       "  {'alpha': 0.0001, 'penalty': 'l1'},\n",
       "  {'alpha': 0.0001, 'penalty': 'l2'},\n",
       "  {'alpha': 0.0001, 'penalty': 'elasticnet'},\n",
       "  {'alpha': 1e-05, 'penalty': 'l1'},\n",
       "  {'alpha': 1e-05, 'penalty': 'l2'},\n",
       "  {'alpha': 1e-05, 'penalty': 'elasticnet'},\n",
       "  {'alpha': 1e-06, 'penalty': 'l1'},\n",
       "  {'alpha': 1e-06, 'penalty': 'l2'},\n",
       "  {'alpha': 1e-06, 'penalty': 'elasticnet'}],\n",
       " 'split0_test_score': array([0.33290151, 0.41237743, 0.39688237, 0.4377721 , 0.4234348 ,\n",
       "        0.42937027, 0.42721737, 0.43054156, 0.42974594, 0.43318458,\n",
       "        0.41929031, 0.43352512, 0.42582837, 0.43630719, 0.43583567]),\n",
       " 'split1_test_score': array([0.30697134, 0.34586954, 0.3487126 , 0.33859402, 0.34233043,\n",
       "        0.33698606, 0.33915233, 0.34145605, 0.33812128, 0.34186196,\n",
       "        0.33379669, 0.3406474 , 0.33661132, 0.33729507, 0.34091519]),\n",
       " 'split2_test_score': array([0.18822397, 0.17871688, 0.19000728, 0.1600972 , 0.16676366,\n",
       "        0.15839694, 0.16448469, 0.15469565, 0.16749676, 0.16043036,\n",
       "        0.16998255, 0.1745292 , 0.17137182, 0.17260289, 0.1729127 ]),\n",
       " 'split3_test_score': array([0.21982842, 0.24734556, 0.24970809, 0.24698068, 0.23976588,\n",
       "        0.24452255, 0.24694196, 0.24441852, 0.25144069, 0.24820192,\n",
       "        0.24048677, 0.24307242, 0.24904603, 0.24556345, 0.24966607]),\n",
       " 'split4_test_score': array([0.33735529, 0.38818043, 0.38657703, 0.39868149, 0.39085643,\n",
       "        0.39345457, 0.39536748, 0.3894756 , 0.39139097, 0.39464494,\n",
       "        0.39256546, 0.38992729, 0.39476371, 0.39339358, 0.3946022 ]),\n",
       " 'mean_test_score': array([0.27705611, 0.31449797, 0.31437747, 0.3164251 , 0.31263024,\n",
       "        0.31254608, 0.31463277, 0.31211747, 0.31563913, 0.31566475,\n",
       "        0.31122436, 0.31634029, 0.31552425, 0.31703244, 0.31878637]),\n",
       " 'std_test_score': array([0.06134457, 0.08824922, 0.08105407, 0.10123597, 0.09577616,\n",
       "        0.09917716, 0.09687217, 0.1002338 , 0.09521739, 0.09938212,\n",
       "        0.09354912, 0.09509651, 0.09390403, 0.09636989, 0.09591142]),\n",
       " 'rank_test_score': array([15,  9, 10,  3, 11, 12,  8, 13,  6,  5, 14,  4,  7,  2,  1],\n",
       "       dtype=int32)}"
      ]
     },
     "execution_count": 36,
     "metadata": {},
     "output_type": "execute_result"
    }
   ],
   "source": [
    "from sklearn.model_selection import GridSearchCV\n",
    "clf = SGDRegressor()\n",
    "tuner = GridSearchCV(clf, params)\n",
    "tuner.fit(X_train, y_train)\n",
    "GridSearchCV(estimator=SGDRegressor(),\n",
    "             param_grid=params)\n",
    "sorted(tuner.cv_results_.keys())\n",
    "tuner.cv_results_\n",
    "                  "
   ]
  },
  {
   "cell_type": "code",
   "execution_count": 37,
   "id": "d0bbc38b-1612-4062-b443-cdfd4b1e643f",
   "metadata": {},
   "outputs": [
    {
     "data": {
      "text/plain": [
       "{'alpha': 0.001, 'penalty': 'elasticnet'}"
      ]
     },
     "execution_count": 37,
     "metadata": {},
     "output_type": "execute_result"
    }
   ],
   "source": [
    "tuner.cv_results_['params'][5]"
   ]
  },
  {
   "cell_type": "code",
   "execution_count": 38,
   "id": "fd790b6d-5ef2-4d26-b9a1-5e9f0c406fb8",
   "metadata": {},
   "outputs": [],
   "source": [
    "new_cols = ['f1^2','f2^2','f3^2','f4^2','f5^2','f6^2','f7^2','f8^2','f9^2','f10^2','f11^2']"
   ]
  },
  {
   "cell_type": "code",
   "execution_count": 39,
   "id": "86a2bea3-49a9-4900-a32f-d4f2c1a3d65e",
   "metadata": {},
   "outputs": [
    {
     "data": {
      "text/html": [
       "<div>\n",
       "<style scoped>\n",
       "    .dataframe tbody tr th:only-of-type {\n",
       "        vertical-align: middle;\n",
       "    }\n",
       "\n",
       "    .dataframe tbody tr th {\n",
       "        vertical-align: top;\n",
       "    }\n",
       "\n",
       "    .dataframe thead th {\n",
       "        text-align: right;\n",
       "    }\n",
       "</style>\n",
       "<table border=\"1\" class=\"dataframe\">\n",
       "  <thead>\n",
       "    <tr style=\"text-align: right;\">\n",
       "      <th></th>\n",
       "      <th>fixedacidity</th>\n",
       "      <th>volatileacidity</th>\n",
       "      <th>citricacid</th>\n",
       "      <th>residualsugar</th>\n",
       "      <th>chlorides</th>\n",
       "      <th>freesulfurdioxide</th>\n",
       "      <th>totalsulfurdioxide</th>\n",
       "      <th>density</th>\n",
       "      <th>pH</th>\n",
       "      <th>sulphates</th>\n",
       "      <th>...</th>\n",
       "      <th>f2^2</th>\n",
       "      <th>f3^2</th>\n",
       "      <th>f4^2</th>\n",
       "      <th>f5^2</th>\n",
       "      <th>f6^2</th>\n",
       "      <th>f7^2</th>\n",
       "      <th>f8^2</th>\n",
       "      <th>f9^2</th>\n",
       "      <th>f10^2</th>\n",
       "      <th>f11^2</th>\n",
       "    </tr>\n",
       "  </thead>\n",
       "  <tbody>\n",
       "    <tr>\n",
       "      <th>0</th>\n",
       "      <td>7.4</td>\n",
       "      <td>0.70</td>\n",
       "      <td>0.00</td>\n",
       "      <td>1.9</td>\n",
       "      <td>0.076</td>\n",
       "      <td>11.0</td>\n",
       "      <td>34.0</td>\n",
       "      <td>0.9978</td>\n",
       "      <td>3.51</td>\n",
       "      <td>0.56</td>\n",
       "      <td>...</td>\n",
       "      <td>0.4900</td>\n",
       "      <td>0.0000</td>\n",
       "      <td>3.61</td>\n",
       "      <td>0.005776</td>\n",
       "      <td>121.0</td>\n",
       "      <td>1156.0</td>\n",
       "      <td>0.995605</td>\n",
       "      <td>12.3201</td>\n",
       "      <td>0.3136</td>\n",
       "      <td>88.36</td>\n",
       "    </tr>\n",
       "    <tr>\n",
       "      <th>1</th>\n",
       "      <td>7.8</td>\n",
       "      <td>0.88</td>\n",
       "      <td>0.00</td>\n",
       "      <td>2.6</td>\n",
       "      <td>0.098</td>\n",
       "      <td>25.0</td>\n",
       "      <td>67.0</td>\n",
       "      <td>0.9968</td>\n",
       "      <td>3.20</td>\n",
       "      <td>0.68</td>\n",
       "      <td>...</td>\n",
       "      <td>0.7744</td>\n",
       "      <td>0.0000</td>\n",
       "      <td>6.76</td>\n",
       "      <td>0.009604</td>\n",
       "      <td>625.0</td>\n",
       "      <td>4489.0</td>\n",
       "      <td>0.993610</td>\n",
       "      <td>10.2400</td>\n",
       "      <td>0.4624</td>\n",
       "      <td>96.04</td>\n",
       "    </tr>\n",
       "    <tr>\n",
       "      <th>2</th>\n",
       "      <td>7.8</td>\n",
       "      <td>0.76</td>\n",
       "      <td>0.04</td>\n",
       "      <td>2.3</td>\n",
       "      <td>0.092</td>\n",
       "      <td>15.0</td>\n",
       "      <td>54.0</td>\n",
       "      <td>0.9970</td>\n",
       "      <td>3.26</td>\n",
       "      <td>0.65</td>\n",
       "      <td>...</td>\n",
       "      <td>0.5776</td>\n",
       "      <td>0.0016</td>\n",
       "      <td>5.29</td>\n",
       "      <td>0.008464</td>\n",
       "      <td>225.0</td>\n",
       "      <td>2916.0</td>\n",
       "      <td>0.994009</td>\n",
       "      <td>10.6276</td>\n",
       "      <td>0.4225</td>\n",
       "      <td>96.04</td>\n",
       "    </tr>\n",
       "    <tr>\n",
       "      <th>3</th>\n",
       "      <td>11.2</td>\n",
       "      <td>0.28</td>\n",
       "      <td>0.56</td>\n",
       "      <td>1.9</td>\n",
       "      <td>0.075</td>\n",
       "      <td>17.0</td>\n",
       "      <td>60.0</td>\n",
       "      <td>0.9980</td>\n",
       "      <td>3.16</td>\n",
       "      <td>0.58</td>\n",
       "      <td>...</td>\n",
       "      <td>0.0784</td>\n",
       "      <td>0.3136</td>\n",
       "      <td>3.61</td>\n",
       "      <td>0.005625</td>\n",
       "      <td>289.0</td>\n",
       "      <td>3600.0</td>\n",
       "      <td>0.996004</td>\n",
       "      <td>9.9856</td>\n",
       "      <td>0.3364</td>\n",
       "      <td>96.04</td>\n",
       "    </tr>\n",
       "    <tr>\n",
       "      <th>4</th>\n",
       "      <td>7.4</td>\n",
       "      <td>0.70</td>\n",
       "      <td>0.00</td>\n",
       "      <td>1.9</td>\n",
       "      <td>0.076</td>\n",
       "      <td>11.0</td>\n",
       "      <td>34.0</td>\n",
       "      <td>0.9978</td>\n",
       "      <td>3.51</td>\n",
       "      <td>0.56</td>\n",
       "      <td>...</td>\n",
       "      <td>0.4900</td>\n",
       "      <td>0.0000</td>\n",
       "      <td>3.61</td>\n",
       "      <td>0.005776</td>\n",
       "      <td>121.0</td>\n",
       "      <td>1156.0</td>\n",
       "      <td>0.995605</td>\n",
       "      <td>12.3201</td>\n",
       "      <td>0.3136</td>\n",
       "      <td>88.36</td>\n",
       "    </tr>\n",
       "  </tbody>\n",
       "</table>\n",
       "<p>5 rows × 23 columns</p>\n",
       "</div>"
      ],
      "text/plain": [
       "   fixedacidity  volatileacidity  citricacid  residualsugar  chlorides  \\\n",
       "0           7.4             0.70        0.00            1.9      0.076   \n",
       "1           7.8             0.88        0.00            2.6      0.098   \n",
       "2           7.8             0.76        0.04            2.3      0.092   \n",
       "3          11.2             0.28        0.56            1.9      0.075   \n",
       "4           7.4             0.70        0.00            1.9      0.076   \n",
       "\n",
       "   freesulfurdioxide  totalsulfurdioxide  density    pH  sulphates  ...  \\\n",
       "0               11.0                34.0   0.9978  3.51       0.56  ...   \n",
       "1               25.0                67.0   0.9968  3.20       0.68  ...   \n",
       "2               15.0                54.0   0.9970  3.26       0.65  ...   \n",
       "3               17.0                60.0   0.9980  3.16       0.58  ...   \n",
       "4               11.0                34.0   0.9978  3.51       0.56  ...   \n",
       "\n",
       "     f2^2    f3^2  f4^2      f5^2   f6^2    f7^2      f8^2     f9^2   f10^2  \\\n",
       "0  0.4900  0.0000  3.61  0.005776  121.0  1156.0  0.995605  12.3201  0.3136   \n",
       "1  0.7744  0.0000  6.76  0.009604  625.0  4489.0  0.993610  10.2400  0.4624   \n",
       "2  0.5776  0.0016  5.29  0.008464  225.0  2916.0  0.994009  10.6276  0.4225   \n",
       "3  0.0784  0.3136  3.61  0.005625  289.0  3600.0  0.996004   9.9856  0.3364   \n",
       "4  0.4900  0.0000  3.61  0.005776  121.0  1156.0  0.995605  12.3201  0.3136   \n",
       "\n",
       "   f11^2  \n",
       "0  88.36  \n",
       "1  96.04  \n",
       "2  96.04  \n",
       "3  96.04  \n",
       "4  88.36  \n",
       "\n",
       "[5 rows x 23 columns]"
      ]
     },
     "execution_count": 39,
     "metadata": {},
     "output_type": "execute_result"
    }
   ],
   "source": [
    "data_square = data_red\n",
    "data_square[new_cols] = data_red[s[:11]] ** 2\n",
    "data_square.head()"
   ]
  },
  {
   "cell_type": "code",
   "execution_count": 117,
   "id": "f6f266cb-dd2d-4154-9122-ef7d6c1dfadb",
   "metadata": {},
   "outputs": [
    {
     "data": {
      "text/html": [
       "<div>\n",
       "<style scoped>\n",
       "    .dataframe tbody tr th:only-of-type {\n",
       "        vertical-align: middle;\n",
       "    }\n",
       "\n",
       "    .dataframe tbody tr th {\n",
       "        vertical-align: top;\n",
       "    }\n",
       "\n",
       "    .dataframe thead th {\n",
       "        text-align: right;\n",
       "    }\n",
       "</style>\n",
       "<table border=\"1\" class=\"dataframe\">\n",
       "  <thead>\n",
       "    <tr style=\"text-align: right;\">\n",
       "      <th></th>\n",
       "      <th>fixedacidity</th>\n",
       "      <th>volatileacidity</th>\n",
       "      <th>citricacid</th>\n",
       "      <th>residualsugar</th>\n",
       "      <th>chlorides</th>\n",
       "      <th>freesulfurdioxide</th>\n",
       "      <th>totalsulfurdioxide</th>\n",
       "      <th>density</th>\n",
       "      <th>pH</th>\n",
       "      <th>sulphates</th>\n",
       "      <th>...</th>\n",
       "      <th>f2^3</th>\n",
       "      <th>f3^3</th>\n",
       "      <th>f4^3</th>\n",
       "      <th>f5^3</th>\n",
       "      <th>f6^3</th>\n",
       "      <th>f7^3</th>\n",
       "      <th>f8^3</th>\n",
       "      <th>f9^3</th>\n",
       "      <th>f10^3</th>\n",
       "      <th>f11^3</th>\n",
       "    </tr>\n",
       "  </thead>\n",
       "  <tbody>\n",
       "    <tr>\n",
       "      <th>0</th>\n",
       "      <td>7.4</td>\n",
       "      <td>0.70</td>\n",
       "      <td>0.00</td>\n",
       "      <td>1.9</td>\n",
       "      <td>0.076</td>\n",
       "      <td>11.0</td>\n",
       "      <td>34.0</td>\n",
       "      <td>0.9978</td>\n",
       "      <td>3.51</td>\n",
       "      <td>0.56</td>\n",
       "      <td>...</td>\n",
       "      <td>0.343000</td>\n",
       "      <td>0.000000</td>\n",
       "      <td>6.859</td>\n",
       "      <td>0.000439</td>\n",
       "      <td>1331.0</td>\n",
       "      <td>39304.0</td>\n",
       "      <td>0.993415</td>\n",
       "      <td>43.243551</td>\n",
       "      <td>0.175616</td>\n",
       "      <td>830.584</td>\n",
       "    </tr>\n",
       "    <tr>\n",
       "      <th>1</th>\n",
       "      <td>7.8</td>\n",
       "      <td>0.88</td>\n",
       "      <td>0.00</td>\n",
       "      <td>2.6</td>\n",
       "      <td>0.098</td>\n",
       "      <td>25.0</td>\n",
       "      <td>67.0</td>\n",
       "      <td>0.9968</td>\n",
       "      <td>3.20</td>\n",
       "      <td>0.68</td>\n",
       "      <td>...</td>\n",
       "      <td>0.681472</td>\n",
       "      <td>0.000000</td>\n",
       "      <td>17.576</td>\n",
       "      <td>0.000941</td>\n",
       "      <td>15625.0</td>\n",
       "      <td>300763.0</td>\n",
       "      <td>0.990431</td>\n",
       "      <td>32.768000</td>\n",
       "      <td>0.314432</td>\n",
       "      <td>941.192</td>\n",
       "    </tr>\n",
       "    <tr>\n",
       "      <th>2</th>\n",
       "      <td>7.8</td>\n",
       "      <td>0.76</td>\n",
       "      <td>0.04</td>\n",
       "      <td>2.3</td>\n",
       "      <td>0.092</td>\n",
       "      <td>15.0</td>\n",
       "      <td>54.0</td>\n",
       "      <td>0.9970</td>\n",
       "      <td>3.26</td>\n",
       "      <td>0.65</td>\n",
       "      <td>...</td>\n",
       "      <td>0.438976</td>\n",
       "      <td>0.000064</td>\n",
       "      <td>12.167</td>\n",
       "      <td>0.000779</td>\n",
       "      <td>3375.0</td>\n",
       "      <td>157464.0</td>\n",
       "      <td>0.991027</td>\n",
       "      <td>34.645976</td>\n",
       "      <td>0.274625</td>\n",
       "      <td>941.192</td>\n",
       "    </tr>\n",
       "    <tr>\n",
       "      <th>3</th>\n",
       "      <td>11.2</td>\n",
       "      <td>0.28</td>\n",
       "      <td>0.56</td>\n",
       "      <td>1.9</td>\n",
       "      <td>0.075</td>\n",
       "      <td>17.0</td>\n",
       "      <td>60.0</td>\n",
       "      <td>0.9980</td>\n",
       "      <td>3.16</td>\n",
       "      <td>0.58</td>\n",
       "      <td>...</td>\n",
       "      <td>0.021952</td>\n",
       "      <td>0.175616</td>\n",
       "      <td>6.859</td>\n",
       "      <td>0.000422</td>\n",
       "      <td>4913.0</td>\n",
       "      <td>216000.0</td>\n",
       "      <td>0.994012</td>\n",
       "      <td>31.554496</td>\n",
       "      <td>0.195112</td>\n",
       "      <td>941.192</td>\n",
       "    </tr>\n",
       "    <tr>\n",
       "      <th>4</th>\n",
       "      <td>7.4</td>\n",
       "      <td>0.70</td>\n",
       "      <td>0.00</td>\n",
       "      <td>1.9</td>\n",
       "      <td>0.076</td>\n",
       "      <td>11.0</td>\n",
       "      <td>34.0</td>\n",
       "      <td>0.9978</td>\n",
       "      <td>3.51</td>\n",
       "      <td>0.56</td>\n",
       "      <td>...</td>\n",
       "      <td>0.343000</td>\n",
       "      <td>0.000000</td>\n",
       "      <td>6.859</td>\n",
       "      <td>0.000439</td>\n",
       "      <td>1331.0</td>\n",
       "      <td>39304.0</td>\n",
       "      <td>0.993415</td>\n",
       "      <td>43.243551</td>\n",
       "      <td>0.175616</td>\n",
       "      <td>830.584</td>\n",
       "    </tr>\n",
       "  </tbody>\n",
       "</table>\n",
       "<p>5 rows × 34 columns</p>\n",
       "</div>"
      ],
      "text/plain": [
       "   fixedacidity  volatileacidity  citricacid  residualsugar  chlorides  \\\n",
       "0           7.4             0.70        0.00            1.9      0.076   \n",
       "1           7.8             0.88        0.00            2.6      0.098   \n",
       "2           7.8             0.76        0.04            2.3      0.092   \n",
       "3          11.2             0.28        0.56            1.9      0.075   \n",
       "4           7.4             0.70        0.00            1.9      0.076   \n",
       "\n",
       "   freesulfurdioxide  totalsulfurdioxide  density    pH  sulphates  ...  \\\n",
       "0               11.0                34.0   0.9978  3.51       0.56  ...   \n",
       "1               25.0                67.0   0.9968  3.20       0.68  ...   \n",
       "2               15.0                54.0   0.9970  3.26       0.65  ...   \n",
       "3               17.0                60.0   0.9980  3.16       0.58  ...   \n",
       "4               11.0                34.0   0.9978  3.51       0.56  ...   \n",
       "\n",
       "       f2^3      f3^3    f4^3      f5^3     f6^3      f7^3      f8^3  \\\n",
       "0  0.343000  0.000000   6.859  0.000439   1331.0   39304.0  0.993415   \n",
       "1  0.681472  0.000000  17.576  0.000941  15625.0  300763.0  0.990431   \n",
       "2  0.438976  0.000064  12.167  0.000779   3375.0  157464.0  0.991027   \n",
       "3  0.021952  0.175616   6.859  0.000422   4913.0  216000.0  0.994012   \n",
       "4  0.343000  0.000000   6.859  0.000439   1331.0   39304.0  0.993415   \n",
       "\n",
       "        f9^3     f10^3    f11^3  \n",
       "0  43.243551  0.175616  830.584  \n",
       "1  32.768000  0.314432  941.192  \n",
       "2  34.645976  0.274625  941.192  \n",
       "3  31.554496  0.195112  941.192  \n",
       "4  43.243551  0.175616  830.584  \n",
       "\n",
       "[5 rows x 34 columns]"
      ]
     },
     "execution_count": 117,
     "metadata": {},
     "output_type": "execute_result"
    }
   ],
   "source": [
    "new_cols_3 = ['f1^3','f2^3','f3^3','f4^3','f5^3','f6^3','f7^3','f8^3','f9^3','f10^3','f11^3']\n",
    "data_3 = data_red\n",
    "data_3[new_cols_3] = data_red[s[:11]] ** 3\n",
    "data_3.head()"
   ]
  },
  {
   "cell_type": "code",
   "execution_count": 118,
   "id": "e9af82a5-4742-4c42-8834-5fac82e30f5a",
   "metadata": {},
   "outputs": [],
   "source": [
    "# separate the data into training and response\n",
    "X_s = data_3.drop('quality', axis=1)\n",
    "y_s = data_3['quality']\n",
    "X_train_s, X_test_s, y_train_s, y_test_s = train_test_split(X_s, y_s, test_size=0.2, random_state=50)\n",
    "X_train_s, X_validate_s, y_train_s, y_validate_s = train_test_split(X_train_s, y_train_s, test_size=0.25, random_state=50)\n",
    "\n",
    "\n",
    "# rescaling using standardized scaling\n",
    "sc = StandardScaler()\n",
    "X_train_s = sc.fit_transform(X_train_s)\n",
    "X_validate_s = sc.fit_transform(X_validate_s)\n",
    "X_test_s = sc.fit_transform(X_test_s)"
   ]
  },
  {
   "cell_type": "code",
   "execution_count": 119,
   "id": "a45461d7-bdbd-4cac-9b21-bc84bba45596",
   "metadata": {},
   "outputs": [
    {
     "name": "stdout",
     "output_type": "stream",
     "text": [
      "0.5923437500000001\n"
     ]
    },
    {
     "data": {
      "text/plain": [
       "5.5125"
      ]
     },
     "execution_count": 119,
     "metadata": {},
     "output_type": "execute_result"
    }
   ],
   "source": [
    "reg = linear_model.LinearRegression()\n",
    "reg.fit(X_train_s, y_train_s)\n",
    "y_pred_s = reg.predict(X_validate_s)\n",
    "y_mean_s = np.array(y_validate_s)\n",
    "y_mean_s.fill(np.mean(y_validate_s))\n",
    "print(mean_squared_error(y_validate_s, y_mean_s))\n",
    "np.mean(y_test_s)"
   ]
  },
  {
   "cell_type": "code",
   "execution_count": 120,
   "id": "3283b9be-0e9a-4020-923b-c36a6532e56e",
   "metadata": {},
   "outputs": [
    {
     "name": "stdout",
     "output_type": "stream",
     "text": [
      "0.33925631158979497\n"
     ]
    },
    {
     "data": {
      "image/png": "[encoded data removed]",
      "text/plain": [
       "<Figure size 432x288 with 1 Axes>"
      ]
     },
     "metadata": {
      "needs_background": "light"
     },
     "output_type": "display_data"
    }
   ],
   "source": [
    "# 3-degree\n",
    "print(mean_squared_error(y_validate_s, y_pred_s))\n",
    "# y vs ypred\n",
    "plt.scatter(y_validate_s, y_pred_s)\n",
    "plt.show()"
   ]
  },
  {
   "cell_type": "code",
   "execution_count": 131,
   "id": "6848ccaf-e3fe-4d19-bea3-54fe225d5661",
   "metadata": {},
   "outputs": [
    {
     "data": {
      "image/png": "[encoded data removed]",
      "text/plain": [
       "<Figure size 432x288 with 1 Axes>"
      ]
     },
     "metadata": {
      "needs_background": "light"
     },
     "output_type": "display_data"
    },
    {
     "name": "stdout",
     "output_type": "stream",
     "text": [
      "0.33865073722631245\n"
     ]
    }
   ],
   "source": [
    "from sklearn.linear_model import SGDRegressor\n",
    "clf = SGDRegressor(alpha=0.00001, penalty = 'l2')\n",
    "clf.fit(X_train_s, y_train_s)\n",
    "y_pred_gd = clf.predict(X_validate_s)\n",
    "plt.scatter(y_validate_s, y_pred_gd)\n",
    "plt.show()\n",
    "\n",
    "print(mean_squared_error(y_validate, y_pred_gd))"
   ]
  },
  {
   "cell_type": "code",
   "execution_count": 124,
   "id": "f2ee749f-315d-4eee-ae1a-72a5642df5b9",
   "metadata": {},
   "outputs": [],
   "source": [
    "from sklearn.preprocessing import PolynomialFeatures\n",
    "poly = PolynomialFeatures(3)\n",
    "X_train_3 = poly.fit_transform(X_train)\n",
    "X_validate_3 = poly.fit_transform(X_validate)\n",
    "\n",
    "# rescaling using standardized scaling\n",
    "sc = StandardScaler()\n",
    "X_train_3 = sc.fit_transform(X_train_3)\n",
    "X_validate_3 = sc.fit_transform(X_validate_3)"
   ]
  },
  {
   "cell_type": "code",
   "execution_count": 127,
   "id": "d4db140e-9a71-4b80-8410-c3f0ad19d576",
   "metadata": {},
   "outputs": [
    {
     "data": {
      "image/png": "[encoded data removed]",
      "text/plain": [
       "<Figure size 432x288 with 1 Axes>"
      ]
     },
     "metadata": {
      "needs_background": "light"
     },
     "output_type": "display_data"
    },
    {
     "name": "stdout",
     "output_type": "stream",
     "text": [
      "0.34198805689483736\n"
     ]
    }
   ],
   "source": [
    "from sklearn.linear_model import SGDRegressor\n",
    "from sklearn.linear_model import LinearRegression\n",
    "clf = SGDRegressor(alpha=0.000001, penalty = 'l2')\n",
    "clf.fit(X_train_3, y_train)\n",
    "y_pred_gd_3 = model.predict(X_validate_3)\n",
    "plt.scatter(y_validate, y_pred_gd_3)\n",
    "plt.show()\n",
    "\n",
    "print(mean_squared_error(y_validate, y_pred_gd))"
   ]
  },
  {
   "cell_type": "code",
   "execution_count": 128,
   "id": "9735e8af-94fa-490e-9fd5-aab8d2adeb9c",
   "metadata": {},
   "outputs": [],
   "source": [
    "# param_grid = {'poly_degree': [8,7,6,5,4,3,2,1],\n",
    "#              'sgd_penalty': ['l1','l2'],\n",
    "#              'sgd_alpha': [0.0001,0.0005,0.001,0.005,0.01,0.05,0.1],\n",
    "#               'sgd_eta0':[0.0001,0.0005,0.001,0.005,0.01,0.05,0.1]\n",
    "#              }"
   ]
  },
  {
   "cell_type": "code",
   "execution_count": 111,
   "id": "3fc76eb4-06ef-4fa4-9245-7e2232bf4165",
   "metadata": {},
   "outputs": [
    {
     "ename": "ValueError",
     "evalue": "Invalid parameter 'poly_degree' for estimator Pipeline(steps=[('poly', PolynomialFeatures(include_bias=False)),\n                ('scaler', MinMaxScaler()),\n                ('sgd', SGDRegressor(learning_rate='constant'))]). Valid parameters are: ['memory', 'steps', 'verbose'].",
     "output_type": "error",
     "traceback": [
      "\u001b[0;31m---------------------------------------------------------------------------\u001b[0m",
      "\u001b[0;31m_RemoteTraceback\u001b[0m                          Traceback (most recent call last)",
      "\u001b[0;31m_RemoteTraceback\u001b[0m: \n\"\"\"\nTraceback (most recent call last):\n  File \"/opt/pub/eb/apps/all/DavidsonJupyter/2021-common-GCCcore-10.2.0/lib/python3.8/site-packages/joblib/externals/loky/process_executor.py\", line 436, in _process_worker\n    r = call_item()\n  File \"/opt/pub/eb/apps/all/DavidsonJupyter/2021-common-GCCcore-10.2.0/lib/python3.8/site-packages/joblib/externals/loky/process_executor.py\", line 288, in __call__\n    return self.fn(*self.args, **self.kwargs)\n  File \"/opt/pub/eb/apps/all/DavidsonJupyter/2021-common-GCCcore-10.2.0/lib/python3.8/site-packages/joblib/_parallel_backends.py\", line 595, in __call__\n    return self.func(*args, **kwargs)\n  File \"/opt/pub/eb/apps/all/DavidsonJupyter/2021-common-GCCcore-10.2.0/lib/python3.8/site-packages/joblib/parallel.py\", line 262, in __call__\n    return [func(*args, **kwargs)\n  File \"/opt/pub/eb/apps/all/DavidsonJupyter/2021-common-GCCcore-10.2.0/lib/python3.8/site-packages/joblib/parallel.py\", line 262, in <listcomp>\n    return [func(*args, **kwargs)\n  File \"/opt/pub/eb/apps/all/DavidsonJupyter/2021-common-GCCcore-10.2.0/lib/python3.8/site-packages/sklearn/utils/fixes.py\", line 117, in __call__\n    return self.function(*args, **kwargs)\n  File \"/opt/pub/eb/apps/all/DavidsonJupyter/2021-common-GCCcore-10.2.0/lib/python3.8/site-packages/sklearn/model_selection/_validation.py\", line 674, in _fit_and_score\n    estimator = estimator.set_params(**cloned_parameters)\n  File \"/opt/pub/eb/apps/all/DavidsonJupyter/2021-common-GCCcore-10.2.0/lib/python3.8/site-packages/sklearn/pipeline.py\", line 188, in set_params\n    self._set_params(\"steps\", **kwargs)\n  File \"/opt/pub/eb/apps/all/DavidsonJupyter/2021-common-GCCcore-10.2.0/lib/python3.8/site-packages/sklearn/utils/metaestimators.py\", line 72, in _set_params\n    super().set_params(**params)\n  File \"/opt/pub/eb/apps/all/DavidsonJupyter/2021-common-GCCcore-10.2.0/lib/python3.8/site-packages/sklearn/base.py\", line 246, in set_params\n    raise ValueError(\nValueError: Invalid parameter 'poly_degree' for estimator Pipeline(steps=[('poly', PolynomialFeatures(include_bias=False)),\n                ('scaler', MinMaxScaler()),\n                ('sgd', SGDRegressor(learning_rate='constant'))]). Valid parameters are: ['memory', 'steps', 'verbose'].\n\"\"\"",
      "\nThe above exception was the direct cause of the following exception:\n",
      "\u001b[0;31mValueError\u001b[0m                                Traceback (most recent call last)",
      "Input \u001b[0;32mIn [111]\u001b[0m, in \u001b[0;36m<cell line: 14>\u001b[0;34m()\u001b[0m\n\u001b[1;32m      8\u001b[0m param_grid \u001b[38;5;241m=\u001b[39m {\u001b[38;5;124m'\u001b[39m\u001b[38;5;124mpoly_degree\u001b[39m\u001b[38;5;124m'\u001b[39m: [\u001b[38;5;241m8\u001b[39m,\u001b[38;5;241m7\u001b[39m,\u001b[38;5;241m6\u001b[39m,\u001b[38;5;241m5\u001b[39m,\u001b[38;5;241m4\u001b[39m,\u001b[38;5;241m3\u001b[39m,\u001b[38;5;241m2\u001b[39m,\u001b[38;5;241m1\u001b[39m],\n\u001b[1;32m      9\u001b[0m              \u001b[38;5;124m'\u001b[39m\u001b[38;5;124msgd_penalty\u001b[39m\u001b[38;5;124m'\u001b[39m: [\u001b[38;5;124m'\u001b[39m\u001b[38;5;124ml1\u001b[39m\u001b[38;5;124m'\u001b[39m,\u001b[38;5;124m'\u001b[39m\u001b[38;5;124ml2\u001b[39m\u001b[38;5;124m'\u001b[39m],\n\u001b[1;32m     10\u001b[0m              \u001b[38;5;124m'\u001b[39m\u001b[38;5;124msgd_alpha\u001b[39m\u001b[38;5;124m'\u001b[39m: [\u001b[38;5;241m0.0001\u001b[39m,\u001b[38;5;241m0.0005\u001b[39m,\u001b[38;5;241m0.001\u001b[39m,\u001b[38;5;241m0.005\u001b[39m,\u001b[38;5;241m0.01\u001b[39m,\u001b[38;5;241m0.05\u001b[39m,\u001b[38;5;241m0.1\u001b[39m],\n\u001b[1;32m     11\u001b[0m               \u001b[38;5;124m'\u001b[39m\u001b[38;5;124msgd_eta0\u001b[39m\u001b[38;5;124m'\u001b[39m:[\u001b[38;5;241m0.0001\u001b[39m,\u001b[38;5;241m0.0005\u001b[39m,\u001b[38;5;241m0.001\u001b[39m,\u001b[38;5;241m0.005\u001b[39m,\u001b[38;5;241m0.01\u001b[39m,\u001b[38;5;241m0.05\u001b[39m,\u001b[38;5;241m0.1\u001b[39m]\n\u001b[1;32m     12\u001b[0m              }\n\u001b[1;32m     13\u001b[0m sgd \u001b[38;5;241m=\u001b[39m GridSearchCV(sgd_pipeline,param_grid,cv\u001b[38;5;241m=\u001b[39m\u001b[38;5;241m5\u001b[39m,n_jobs\u001b[38;5;241m=\u001b[39m\u001b[38;5;241m-\u001b[39m\u001b[38;5;241m1\u001b[39m)\n\u001b[0;32m---> 14\u001b[0m \u001b[43msgd\u001b[49m\u001b[38;5;241;43m.\u001b[39;49m\u001b[43mfit\u001b[49m\u001b[43m(\u001b[49m\u001b[43mX_train\u001b[49m\u001b[43m,\u001b[49m\u001b[43m \u001b[49m\u001b[43my_train\u001b[49m\u001b[43m)\u001b[49m\n",
      "File \u001b[0;32m/opt/pub/eb/apps/all/DavidsonJupyter/2021-common-GCCcore-10.2.0/lib/python3.8/site-packages/sklearn/model_selection/_search.py:875\u001b[0m, in \u001b[0;36mBaseSearchCV.fit\u001b[0;34m(self, X, y, groups, **fit_params)\u001b[0m\n\u001b[1;32m    869\u001b[0m     results \u001b[38;5;241m=\u001b[39m \u001b[38;5;28mself\u001b[39m\u001b[38;5;241m.\u001b[39m_format_results(\n\u001b[1;32m    870\u001b[0m         all_candidate_params, n_splits, all_out, all_more_results\n\u001b[1;32m    871\u001b[0m     )\n\u001b[1;32m    873\u001b[0m     \u001b[38;5;28;01mreturn\u001b[39;00m results\n\u001b[0;32m--> 875\u001b[0m \u001b[38;5;28;43mself\u001b[39;49m\u001b[38;5;241;43m.\u001b[39;49m\u001b[43m_run_search\u001b[49m\u001b[43m(\u001b[49m\u001b[43mevaluate_candidates\u001b[49m\u001b[43m)\u001b[49m\n\u001b[1;32m    877\u001b[0m \u001b[38;5;66;03m# multimetric is determined here because in the case of a callable\u001b[39;00m\n\u001b[1;32m    878\u001b[0m \u001b[38;5;66;03m# self.scoring the return type is only known after calling\u001b[39;00m\n\u001b[1;32m    879\u001b[0m first_test_score \u001b[38;5;241m=\u001b[39m all_out[\u001b[38;5;241m0\u001b[39m][\u001b[38;5;124m\"\u001b[39m\u001b[38;5;124mtest_scores\u001b[39m\u001b[38;5;124m\"\u001b[39m]\n",
      "File \u001b[0;32m/opt/pub/eb/apps/all/DavidsonJupyter/2021-common-GCCcore-10.2.0/lib/python3.8/site-packages/sklearn/model_selection/_search.py:1375\u001b[0m, in \u001b[0;36mGridSearchCV._run_search\u001b[0;34m(self, evaluate_candidates)\u001b[0m\n\u001b[1;32m   1373\u001b[0m \u001b[38;5;28;01mdef\u001b[39;00m \u001b[38;5;21m_run_search\u001b[39m(\u001b[38;5;28mself\u001b[39m, evaluate_candidates):\n\u001b[1;32m   1374\u001b[0m     \u001b[38;5;124;03m\"\"\"Search all candidates in param_grid\"\"\"\u001b[39;00m\n\u001b[0;32m-> 1375\u001b[0m     \u001b[43mevaluate_candidates\u001b[49m\u001b[43m(\u001b[49m\u001b[43mParameterGrid\u001b[49m\u001b[43m(\u001b[49m\u001b[38;5;28;43mself\u001b[39;49m\u001b[38;5;241;43m.\u001b[39;49m\u001b[43mparam_grid\u001b[49m\u001b[43m)\u001b[49m\u001b[43m)\u001b[49m\n",
      "File \u001b[0;32m/opt/pub/eb/apps/all/DavidsonJupyter/2021-common-GCCcore-10.2.0/lib/python3.8/site-packages/sklearn/model_selection/_search.py:822\u001b[0m, in \u001b[0;36mBaseSearchCV.fit.<locals>.evaluate_candidates\u001b[0;34m(candidate_params, cv, more_results)\u001b[0m\n\u001b[1;32m    814\u001b[0m \u001b[38;5;28;01mif\u001b[39;00m \u001b[38;5;28mself\u001b[39m\u001b[38;5;241m.\u001b[39mverbose \u001b[38;5;241m>\u001b[39m \u001b[38;5;241m0\u001b[39m:\n\u001b[1;32m    815\u001b[0m     \u001b[38;5;28mprint\u001b[39m(\n\u001b[1;32m    816\u001b[0m         \u001b[38;5;124m\"\u001b[39m\u001b[38;5;124mFitting \u001b[39m\u001b[38;5;132;01m{0}\u001b[39;00m\u001b[38;5;124m folds for each of \u001b[39m\u001b[38;5;132;01m{1}\u001b[39;00m\u001b[38;5;124m candidates,\u001b[39m\u001b[38;5;124m\"\u001b[39m\n\u001b[1;32m    817\u001b[0m         \u001b[38;5;124m\"\u001b[39m\u001b[38;5;124m totalling \u001b[39m\u001b[38;5;132;01m{2}\u001b[39;00m\u001b[38;5;124m fits\u001b[39m\u001b[38;5;124m\"\u001b[39m\u001b[38;5;241m.\u001b[39mformat(\n\u001b[1;32m    818\u001b[0m             n_splits, n_candidates, n_candidates \u001b[38;5;241m*\u001b[39m n_splits\n\u001b[1;32m    819\u001b[0m         )\n\u001b[1;32m    820\u001b[0m     )\n\u001b[0;32m--> 822\u001b[0m out \u001b[38;5;241m=\u001b[39m \u001b[43mparallel\u001b[49m\u001b[43m(\u001b[49m\n\u001b[1;32m    823\u001b[0m \u001b[43m    \u001b[49m\u001b[43mdelayed\u001b[49m\u001b[43m(\u001b[49m\u001b[43m_fit_and_score\u001b[49m\u001b[43m)\u001b[49m\u001b[43m(\u001b[49m\n\u001b[1;32m    824\u001b[0m \u001b[43m        \u001b[49m\u001b[43mclone\u001b[49m\u001b[43m(\u001b[49m\u001b[43mbase_estimator\u001b[49m\u001b[43m)\u001b[49m\u001b[43m,\u001b[49m\n\u001b[1;32m    825\u001b[0m \u001b[43m        \u001b[49m\u001b[43mX\u001b[49m\u001b[43m,\u001b[49m\n\u001b[1;32m    826\u001b[0m \u001b[43m        \u001b[49m\u001b[43my\u001b[49m\u001b[43m,\u001b[49m\n\u001b[1;32m    827\u001b[0m \u001b[43m        \u001b[49m\u001b[43mtrain\u001b[49m\u001b[38;5;241;43m=\u001b[39;49m\u001b[43mtrain\u001b[49m\u001b[43m,\u001b[49m\n\u001b[1;32m    828\u001b[0m \u001b[43m        \u001b[49m\u001b[43mtest\u001b[49m\u001b[38;5;241;43m=\u001b[39;49m\u001b[43mtest\u001b[49m\u001b[43m,\u001b[49m\n\u001b[1;32m    829\u001b[0m \u001b[43m        \u001b[49m\u001b[43mparameters\u001b[49m\u001b[38;5;241;43m=\u001b[39;49m\u001b[43mparameters\u001b[49m\u001b[43m,\u001b[49m\n\u001b[1;32m    830\u001b[0m \u001b[43m        \u001b[49m\u001b[43msplit_progress\u001b[49m\u001b[38;5;241;43m=\u001b[39;49m\u001b[43m(\u001b[49m\u001b[43msplit_idx\u001b[49m\u001b[43m,\u001b[49m\u001b[43m \u001b[49m\u001b[43mn_splits\u001b[49m\u001b[43m)\u001b[49m\u001b[43m,\u001b[49m\n\u001b[1;32m    831\u001b[0m \u001b[43m        \u001b[49m\u001b[43mcandidate_progress\u001b[49m\u001b[38;5;241;43m=\u001b[39;49m\u001b[43m(\u001b[49m\u001b[43mcand_idx\u001b[49m\u001b[43m,\u001b[49m\u001b[43m \u001b[49m\u001b[43mn_candidates\u001b[49m\u001b[43m)\u001b[49m\u001b[43m,\u001b[49m\n\u001b[1;32m    832\u001b[0m \u001b[43m        \u001b[49m\u001b[38;5;241;43m*\u001b[39;49m\u001b[38;5;241;43m*\u001b[39;49m\u001b[43mfit_and_score_kwargs\u001b[49m\u001b[43m,\u001b[49m\n\u001b[1;32m    833\u001b[0m \u001b[43m    \u001b[49m\u001b[43m)\u001b[49m\n\u001b[1;32m    834\u001b[0m \u001b[43m    \u001b[49m\u001b[38;5;28;43;01mfor\u001b[39;49;00m\u001b[43m \u001b[49m\u001b[43m(\u001b[49m\u001b[43mcand_idx\u001b[49m\u001b[43m,\u001b[49m\u001b[43m \u001b[49m\u001b[43mparameters\u001b[49m\u001b[43m)\u001b[49m\u001b[43m,\u001b[49m\u001b[43m \u001b[49m\u001b[43m(\u001b[49m\u001b[43msplit_idx\u001b[49m\u001b[43m,\u001b[49m\u001b[43m \u001b[49m\u001b[43m(\u001b[49m\u001b[43mtrain\u001b[49m\u001b[43m,\u001b[49m\u001b[43m \u001b[49m\u001b[43mtest\u001b[49m\u001b[43m)\u001b[49m\u001b[43m)\u001b[49m\u001b[43m \u001b[49m\u001b[38;5;129;43;01min\u001b[39;49;00m\u001b[43m \u001b[49m\u001b[43mproduct\u001b[49m\u001b[43m(\u001b[49m\n\u001b[1;32m    835\u001b[0m \u001b[43m        \u001b[49m\u001b[38;5;28;43menumerate\u001b[39;49m\u001b[43m(\u001b[49m\u001b[43mcandidate_params\u001b[49m\u001b[43m)\u001b[49m\u001b[43m,\u001b[49m\u001b[43m \u001b[49m\u001b[38;5;28;43menumerate\u001b[39;49m\u001b[43m(\u001b[49m\u001b[43mcv\u001b[49m\u001b[38;5;241;43m.\u001b[39;49m\u001b[43msplit\u001b[49m\u001b[43m(\u001b[49m\u001b[43mX\u001b[49m\u001b[43m,\u001b[49m\u001b[43m \u001b[49m\u001b[43my\u001b[49m\u001b[43m,\u001b[49m\u001b[43m \u001b[49m\u001b[43mgroups\u001b[49m\u001b[43m)\u001b[49m\u001b[43m)\u001b[49m\n\u001b[1;32m    836\u001b[0m \u001b[43m    \u001b[49m\u001b[43m)\u001b[49m\n\u001b[1;32m    837\u001b[0m \u001b[43m\u001b[49m\u001b[43m)\u001b[49m\n\u001b[1;32m    839\u001b[0m \u001b[38;5;28;01mif\u001b[39;00m \u001b[38;5;28mlen\u001b[39m(out) \u001b[38;5;241m<\u001b[39m \u001b[38;5;241m1\u001b[39m:\n\u001b[1;32m    840\u001b[0m     \u001b[38;5;28;01mraise\u001b[39;00m \u001b[38;5;167;01mValueError\u001b[39;00m(\n\u001b[1;32m    841\u001b[0m         \u001b[38;5;124m\"\u001b[39m\u001b[38;5;124mNo fits were performed. \u001b[39m\u001b[38;5;124m\"\u001b[39m\n\u001b[1;32m    842\u001b[0m         \u001b[38;5;124m\"\u001b[39m\u001b[38;5;124mWas the CV iterator empty? \u001b[39m\u001b[38;5;124m\"\u001b[39m\n\u001b[1;32m    843\u001b[0m         \u001b[38;5;124m\"\u001b[39m\u001b[38;5;124mWere there no candidates?\u001b[39m\u001b[38;5;124m\"\u001b[39m\n\u001b[1;32m    844\u001b[0m     )\n",
      "File \u001b[0;32m/opt/pub/eb/apps/all/DavidsonJupyter/2021-common-GCCcore-10.2.0/lib/python3.8/site-packages/joblib/parallel.py:1056\u001b[0m, in \u001b[0;36mParallel.__call__\u001b[0;34m(self, iterable)\u001b[0m\n\u001b[1;32m   1053\u001b[0m     \u001b[38;5;28mself\u001b[39m\u001b[38;5;241m.\u001b[39m_iterating \u001b[38;5;241m=\u001b[39m \u001b[38;5;28;01mFalse\u001b[39;00m\n\u001b[1;32m   1055\u001b[0m \u001b[38;5;28;01mwith\u001b[39;00m \u001b[38;5;28mself\u001b[39m\u001b[38;5;241m.\u001b[39m_backend\u001b[38;5;241m.\u001b[39mretrieval_context():\n\u001b[0;32m-> 1056\u001b[0m     \u001b[38;5;28;43mself\u001b[39;49m\u001b[38;5;241;43m.\u001b[39;49m\u001b[43mretrieve\u001b[49m\u001b[43m(\u001b[49m\u001b[43m)\u001b[49m\n\u001b[1;32m   1057\u001b[0m \u001b[38;5;66;03m# Make sure that we get a last message telling us we are done\u001b[39;00m\n\u001b[1;32m   1058\u001b[0m elapsed_time \u001b[38;5;241m=\u001b[39m time\u001b[38;5;241m.\u001b[39mtime() \u001b[38;5;241m-\u001b[39m \u001b[38;5;28mself\u001b[39m\u001b[38;5;241m.\u001b[39m_start_time\n",
      "File \u001b[0;32m/opt/pub/eb/apps/all/DavidsonJupyter/2021-common-GCCcore-10.2.0/lib/python3.8/site-packages/joblib/parallel.py:935\u001b[0m, in \u001b[0;36mParallel.retrieve\u001b[0;34m(self)\u001b[0m\n\u001b[1;32m    933\u001b[0m \u001b[38;5;28;01mtry\u001b[39;00m:\n\u001b[1;32m    934\u001b[0m     \u001b[38;5;28;01mif\u001b[39;00m \u001b[38;5;28mgetattr\u001b[39m(\u001b[38;5;28mself\u001b[39m\u001b[38;5;241m.\u001b[39m_backend, \u001b[38;5;124m'\u001b[39m\u001b[38;5;124msupports_timeout\u001b[39m\u001b[38;5;124m'\u001b[39m, \u001b[38;5;28;01mFalse\u001b[39;00m):\n\u001b[0;32m--> 935\u001b[0m         \u001b[38;5;28mself\u001b[39m\u001b[38;5;241m.\u001b[39m_output\u001b[38;5;241m.\u001b[39mextend(\u001b[43mjob\u001b[49m\u001b[38;5;241;43m.\u001b[39;49m\u001b[43mget\u001b[49m\u001b[43m(\u001b[49m\u001b[43mtimeout\u001b[49m\u001b[38;5;241;43m=\u001b[39;49m\u001b[38;5;28;43mself\u001b[39;49m\u001b[38;5;241;43m.\u001b[39;49m\u001b[43mtimeout\u001b[49m\u001b[43m)\u001b[49m)\n\u001b[1;32m    936\u001b[0m     \u001b[38;5;28;01melse\u001b[39;00m:\n\u001b[1;32m    937\u001b[0m         \u001b[38;5;28mself\u001b[39m\u001b[38;5;241m.\u001b[39m_output\u001b[38;5;241m.\u001b[39mextend(job\u001b[38;5;241m.\u001b[39mget())\n",
      "File \u001b[0;32m/opt/pub/eb/apps/all/DavidsonJupyter/2021-common-GCCcore-10.2.0/lib/python3.8/site-packages/joblib/_parallel_backends.py:542\u001b[0m, in \u001b[0;36mLokyBackend.wrap_future_result\u001b[0;34m(future, timeout)\u001b[0m\n\u001b[1;32m    539\u001b[0m \u001b[38;5;124;03m\"\"\"Wrapper for Future.result to implement the same behaviour as\u001b[39;00m\n\u001b[1;32m    540\u001b[0m \u001b[38;5;124;03mAsyncResults.get from multiprocessing.\"\"\"\u001b[39;00m\n\u001b[1;32m    541\u001b[0m \u001b[38;5;28;01mtry\u001b[39;00m:\n\u001b[0;32m--> 542\u001b[0m     \u001b[38;5;28;01mreturn\u001b[39;00m \u001b[43mfuture\u001b[49m\u001b[38;5;241;43m.\u001b[39;49m\u001b[43mresult\u001b[49m\u001b[43m(\u001b[49m\u001b[43mtimeout\u001b[49m\u001b[38;5;241;43m=\u001b[39;49m\u001b[43mtimeout\u001b[49m\u001b[43m)\u001b[49m\n\u001b[1;32m    543\u001b[0m \u001b[38;5;28;01mexcept\u001b[39;00m CfTimeoutError \u001b[38;5;28;01mas\u001b[39;00m e:\n\u001b[1;32m    544\u001b[0m     \u001b[38;5;28;01mraise\u001b[39;00m \u001b[38;5;167;01mTimeoutError\u001b[39;00m \u001b[38;5;28;01mfrom\u001b[39;00m \u001b[38;5;21;01me\u001b[39;00m\n",
      "File \u001b[0;32m/opt/pub/eb/apps/all/Python/3.8.6-GCCcore-10.2.0/lib/python3.8/concurrent/futures/_base.py:439\u001b[0m, in \u001b[0;36mFuture.result\u001b[0;34m(self, timeout)\u001b[0m\n\u001b[1;32m    437\u001b[0m     \u001b[38;5;28;01mraise\u001b[39;00m CancelledError()\n\u001b[1;32m    438\u001b[0m \u001b[38;5;28;01melif\u001b[39;00m \u001b[38;5;28mself\u001b[39m\u001b[38;5;241m.\u001b[39m_state \u001b[38;5;241m==\u001b[39m FINISHED:\n\u001b[0;32m--> 439\u001b[0m     \u001b[38;5;28;01mreturn\u001b[39;00m \u001b[38;5;28;43mself\u001b[39;49m\u001b[38;5;241;43m.\u001b[39;49m\u001b[43m__get_result\u001b[49m\u001b[43m(\u001b[49m\u001b[43m)\u001b[49m\n\u001b[1;32m    440\u001b[0m \u001b[38;5;28;01melse\u001b[39;00m:\n\u001b[1;32m    441\u001b[0m     \u001b[38;5;28;01mraise\u001b[39;00m \u001b[38;5;167;01mTimeoutError\u001b[39;00m()\n",
      "File \u001b[0;32m/opt/pub/eb/apps/all/Python/3.8.6-GCCcore-10.2.0/lib/python3.8/concurrent/futures/_base.py:388\u001b[0m, in \u001b[0;36mFuture.__get_result\u001b[0;34m(self)\u001b[0m\n\u001b[1;32m    386\u001b[0m \u001b[38;5;28;01mdef\u001b[39;00m \u001b[38;5;21m__get_result\u001b[39m(\u001b[38;5;28mself\u001b[39m):\n\u001b[1;32m    387\u001b[0m     \u001b[38;5;28;01mif\u001b[39;00m \u001b[38;5;28mself\u001b[39m\u001b[38;5;241m.\u001b[39m_exception:\n\u001b[0;32m--> 388\u001b[0m         \u001b[38;5;28;01mraise\u001b[39;00m \u001b[38;5;28mself\u001b[39m\u001b[38;5;241m.\u001b[39m_exception\n\u001b[1;32m    389\u001b[0m     \u001b[38;5;28;01melse\u001b[39;00m:\n\u001b[1;32m    390\u001b[0m         \u001b[38;5;28;01mreturn\u001b[39;00m \u001b[38;5;28mself\u001b[39m\u001b[38;5;241m.\u001b[39m_result\n",
      "\u001b[0;31mValueError\u001b[0m: Invalid parameter 'poly_degree' for estimator Pipeline(steps=[('poly', PolynomialFeatures(include_bias=False)),\n                ('scaler', MinMaxScaler()),\n                ('sgd', SGDRegressor(learning_rate='constant'))]). Valid parameters are: ['memory', 'steps', 'verbose']."
     ]
    }
   ],
   "source": [
    "# from sklearn.pipeline import Pipeline\n",
    "# from sklearn.preprocessing import MinMaxScaler\n",
    "# sgd_pipeline = Pipeline([\n",
    "#     ('poly', PolynomialFeatures(include_bias=False)),\n",
    "#     ('scaler', MinMaxScaler()),\n",
    "#     ('sgd',SGDRegressor(learning_rate = 'constant')),\n",
    "# ])\n",
    "# param_grid = {'poly_degree': [8,7,6,5,4,3,2,1],\n",
    "#              'sgd_penalty': ['l1','l2'],\n",
    "#              'sgd_alpha': [0.0001,0.0005,0.001,0.005,0.01,0.05,0.1],\n",
    "#               'sgd_eta0':[0.0001,0.0005,0.001,0.005,0.01,0.05,0.1]\n",
    "#              }\n",
    "# sgd = GridSearchCV(sgd_pipeline,param_grid,cv=5,n_jobs=-1)\n",
    "# sgd.fit(X_train, y_train)\n"
   ]
  },
  {
   "cell_type": "code",
   "execution_count": null,
   "id": "4296a30e-760b-403e-9f49-8afb691485ed",
   "metadata": {},
   "outputs": [],
   "source": []
  }
 ],
 "metadata": {
  "kernelspec": {
   "display_name": "Python 3.8",
   "language": "python",
   "name": "python3"
  },
  "language_info": {
   "codemirror_mode": {
    "name": "ipython",
    "version": 3
   },
   "file_extension": ".py",
   "mimetype": "text/x-python",
   "name": "python",
   "nbconvert_exporter": "python",
   "pygments_lexer": "ipython3",
   "version": "3.8.6"
  }
 },
 "nbformat": 4,
 "nbformat_minor": 5
}
