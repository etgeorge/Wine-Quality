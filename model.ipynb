{
 "cells": [
  {
   "cell_type": "code",
   "execution_count": 86,
   "id": "59281274-d800-49dd-bd6e-5041bae2b6a0",
   "metadata": {},
   "outputs": [],
   "source": [
    "import pandas as pd\n",
    "import numpy as np\n",
    "import matplotlib.pyplot as plt\n",
    "import re"
   ]
  },
  {
   "cell_type": "code",
   "execution_count": 87,
   "id": "b803f696-3b8a-4115-b9e7-86fbb804bbca",
   "metadata": {},
   "outputs": [],
   "source": [
    "data_red = pd.read_csv('winequality-red.csv')\n",
    "data_white = pd.read_csv('winequality-white.csv')"
   ]
  },
  {
   "cell_type": "code",
   "execution_count": 97,
   "id": "51a4b492-fd84-45aa-a30e-15cc6d926eb1",
   "metadata": {},
   "outputs": [
    {
     "data": {
      "text/html": [
       "<div>\n",
       "<style scoped>\n",
       "    .dataframe tbody tr th:only-of-type {\n",
       "        vertical-align: middle;\n",
       "    }\n",
       "\n",
       "    .dataframe tbody tr th {\n",
       "        vertical-align: top;\n",
       "    }\n",
       "\n",
       "    .dataframe thead th {\n",
       "        text-align: right;\n",
       "    }\n",
       "</style>\n",
       "<table border=\"1\" class=\"dataframe\">\n",
       "  <thead>\n",
       "    <tr style=\"text-align: right;\">\n",
       "      <th></th>\n",
       "      <th>0</th>\n",
       "      <th>1</th>\n",
       "      <th>2</th>\n",
       "      <th>3</th>\n",
       "      <th>4</th>\n",
       "      <th>5</th>\n",
       "      <th>6</th>\n",
       "      <th>7</th>\n",
       "      <th>8</th>\n",
       "      <th>9</th>\n",
       "      <th>10</th>\n",
       "      <th>11</th>\n",
       "    </tr>\n",
       "  </thead>\n",
       "  <tbody>\n",
       "    <tr>\n",
       "      <th>0</th>\n",
       "      <td>7.4</td>\n",
       "      <td>0.7</td>\n",
       "      <td>0</td>\n",
       "      <td>1.9</td>\n",
       "      <td>0.076</td>\n",
       "      <td>11</td>\n",
       "      <td>34</td>\n",
       "      <td>0.9978</td>\n",
       "      <td>3.51</td>\n",
       "      <td>0.56</td>\n",
       "      <td>9.4</td>\n",
       "      <td>5</td>\n",
       "    </tr>\n",
       "    <tr>\n",
       "      <th>1</th>\n",
       "      <td>7.8</td>\n",
       "      <td>0.88</td>\n",
       "      <td>0</td>\n",
       "      <td>2.6</td>\n",
       "      <td>0.098</td>\n",
       "      <td>25</td>\n",
       "      <td>67</td>\n",
       "      <td>0.9968</td>\n",
       "      <td>3.2</td>\n",
       "      <td>0.68</td>\n",
       "      <td>9.8</td>\n",
       "      <td>5</td>\n",
       "    </tr>\n",
       "    <tr>\n",
       "      <th>2</th>\n",
       "      <td>7.8</td>\n",
       "      <td>0.76</td>\n",
       "      <td>0.04</td>\n",
       "      <td>2.3</td>\n",
       "      <td>0.092</td>\n",
       "      <td>15</td>\n",
       "      <td>54</td>\n",
       "      <td>0.997</td>\n",
       "      <td>3.26</td>\n",
       "      <td>0.65</td>\n",
       "      <td>9.8</td>\n",
       "      <td>5</td>\n",
       "    </tr>\n",
       "    <tr>\n",
       "      <th>3</th>\n",
       "      <td>11.2</td>\n",
       "      <td>0.28</td>\n",
       "      <td>0.56</td>\n",
       "      <td>1.9</td>\n",
       "      <td>0.075</td>\n",
       "      <td>17</td>\n",
       "      <td>60</td>\n",
       "      <td>0.998</td>\n",
       "      <td>3.16</td>\n",
       "      <td>0.58</td>\n",
       "      <td>9.8</td>\n",
       "      <td>6</td>\n",
       "    </tr>\n",
       "    <tr>\n",
       "      <th>4</th>\n",
       "      <td>7.4</td>\n",
       "      <td>0.7</td>\n",
       "      <td>0</td>\n",
       "      <td>1.9</td>\n",
       "      <td>0.076</td>\n",
       "      <td>11</td>\n",
       "      <td>34</td>\n",
       "      <td>0.9978</td>\n",
       "      <td>3.51</td>\n",
       "      <td>0.56</td>\n",
       "      <td>9.4</td>\n",
       "      <td>5</td>\n",
       "    </tr>\n",
       "  </tbody>\n",
       "</table>\n",
       "</div>"
      ],
      "text/plain": [
       "     0     1     2    3      4   5   6       7     8     9    10 11\n",
       "0   7.4   0.7     0  1.9  0.076  11  34  0.9978  3.51  0.56  9.4  5\n",
       "1   7.8  0.88     0  2.6  0.098  25  67  0.9968   3.2  0.68  9.8  5\n",
       "2   7.8  0.76  0.04  2.3  0.092  15  54   0.997  3.26  0.65  9.8  5\n",
       "3  11.2  0.28  0.56  1.9  0.075  17  60   0.998  3.16  0.58  9.8  6\n",
       "4   7.4   0.7     0  1.9  0.076  11  34  0.9978  3.51  0.56  9.4  5"
      ]
     },
     "execution_count": 97,
     "metadata": {},
     "output_type": "execute_result"
    }
   ],
   "source": [
    "data_red.head()"
   ]
  },
  {
   "cell_type": "code",
   "execution_count": null,
   "id": "41116cb6-0a17-4c90-8b87-d4ee6b9405d8",
   "metadata": {},
   "outputs": [],
   "source": []
  },
  {
   "cell_type": "code",
   "execution_count": 89,
   "id": "cd71505c-4884-40f7-b88a-eb7aa7661b46",
   "metadata": {},
   "outputs": [
    {
     "data": {
      "text/html": [
       "<div>\n",
       "<style scoped>\n",
       "    .dataframe tbody tr th:only-of-type {\n",
       "        vertical-align: middle;\n",
       "    }\n",
       "\n",
       "    .dataframe tbody tr th {\n",
       "        vertical-align: top;\n",
       "    }\n",
       "\n",
       "    .dataframe thead th {\n",
       "        text-align: right;\n",
       "    }\n",
       "</style>\n",
       "<table border=\"1\" class=\"dataframe\">\n",
       "  <thead>\n",
       "    <tr style=\"text-align: right;\">\n",
       "      <th></th>\n",
       "      <th>old</th>\n",
       "    </tr>\n",
       "  </thead>\n",
       "  <tbody>\n",
       "    <tr>\n",
       "      <th>0</th>\n",
       "      <td>7.4;0.7;0;1.9;0.076;11;34;0.9978;3.51;0.56;9.4;5</td>\n",
       "    </tr>\n",
       "    <tr>\n",
       "      <th>1</th>\n",
       "      <td>7.8;0.88;0;2.6;0.098;25;67;0.9968;3.2;0.68;9.8;5</td>\n",
       "    </tr>\n",
       "    <tr>\n",
       "      <th>2</th>\n",
       "      <td>7.8;0.76;0.04;2.3;0.092;15;54;0.997;3.26;0.65;...</td>\n",
       "    </tr>\n",
       "    <tr>\n",
       "      <th>3</th>\n",
       "      <td>11.2;0.28;0.56;1.9;0.075;17;60;0.998;3.16;0.58...</td>\n",
       "    </tr>\n",
       "    <tr>\n",
       "      <th>4</th>\n",
       "      <td>7.4;0.7;0;1.9;0.076;11;34;0.9978;3.51;0.56;9.4;5</td>\n",
       "    </tr>\n",
       "  </tbody>\n",
       "</table>\n",
       "</div>"
      ],
      "text/plain": [
       "                                                 old\n",
       "0   7.4;0.7;0;1.9;0.076;11;34;0.9978;3.51;0.56;9.4;5\n",
       "1   7.8;0.88;0;2.6;0.098;25;67;0.9968;3.2;0.68;9.8;5\n",
       "2  7.8;0.76;0.04;2.3;0.092;15;54;0.997;3.26;0.65;...\n",
       "3  11.2;0.28;0.56;1.9;0.075;17;60;0.998;3.16;0.58...\n",
       "4   7.4;0.7;0;1.9;0.076;11;34;0.9978;3.51;0.56;9.4;5"
      ]
     },
     "execution_count": 89,
     "metadata": {},
     "output_type": "execute_result"
    }
   ],
   "source": [
    "data_red = data_red.set_axis(['old'],axis=1, inplace = False)\n",
    "data_red.head()"
   ]
  },
  {
   "cell_type": "code",
   "execution_count": 90,
   "id": "7b855939-5f2c-44e3-a243-65299ddb9194",
   "metadata": {},
   "outputs": [],
   "source": [
    "data_red = data_red['old'].str.split(';', expand=True)"
   ]
  },
  {
   "cell_type": "code",
   "execution_count": 91,
   "id": "2617844d-261e-409d-b0e3-2864ecf21117",
   "metadata": {},
   "outputs": [
    {
     "data": {
      "text/plain": [
       "['fixedacidity',\n",
       " 'volatileacidity',\n",
       " 'citricacid',\n",
       " 'residualsugar',\n",
       " 'chlorides',\n",
       " 'freesulfurdioxide',\n",
       " 'totalsulfurdioxide',\n",
       " 'density',\n",
       " 'pH',\n",
       " 'sulphates',\n",
       " 'alcohol',\n",
       " 'quality']"
      ]
     },
     "execution_count": 91,
     "metadata": {},
     "output_type": "execute_result"
    }
   ],
   "source": [
    "cols = data_white.columns.values\n",
    "col = np.array2string(data_white.columns.values).split(';')\n",
    "s = []\n",
    "for c in col:\n",
    "    s.append(re.sub((r'\\W+'), '',c))\n",
    "s"
   ]
  },
  {
   "cell_type": "code",
   "execution_count": 92,
   "id": "cc797135-239e-482f-8044-ff72ce77c060",
   "metadata": {},
   "outputs": [],
   "source": [
    "data_white = data_white.set_axis(['old'],axis=1, inplace = False)\n",
    "data_white = data_white['old'].str.split(';', expand=True)\n",
    "\n",
    "red_wine = data_red.set_axis(s,axis=1,inplace = False)\n",
    "white_wine = data_white.set_axis(s,axis=1,inplace = False)\n",
    "\n"
   ]
  },
  {
   "cell_type": "code",
   "execution_count": null,
   "id": "a754aabe-7ea6-46c9-bb2e-246e64d6a8d5",
   "metadata": {},
   "outputs": [],
   "source": []
  },
  {
   "cell_type": "code",
   "execution_count": 93,
   "id": "cb6d2baa-c95d-422b-b5da-a20142bf83ca",
   "metadata": {},
   "outputs": [
    {
     "data": {
      "text/plain": [
       "'5'"
      ]
     },
     "execution_count": 93,
     "metadata": {},
     "output_type": "execute_result"
    }
   ],
   "source": [
    "x = data_changed['alcohol']\n",
    "y = data_changed['quality']\n",
    "y[0]\n",
    "#plt.scatter(x,y)"
   ]
  },
  {
   "cell_type": "code",
   "execution_count": 102,
   "id": "66fac8de-e6c4-4079-81c7-3ae1728d1c43",
   "metadata": {},
   "outputs": [],
   "source": [
    "def prepareData():\n",
    "    data_red = pd.read_csv('winequality-red.csv')\n",
    "    data_white = pd.read_csv('winequality-white.csv')\n",
    "    data_red = data_red.set_axis(['old'],axis=1, inplace = False)\n",
    "    data_red = data_red['old'].str.split(';', expand=True) \n",
    "    cols = data_white.columns.values\n",
    "    col = np.array2string(data_white.columns.values).split(';')\n",
    "    s = []\n",
    "    for c in col:\n",
    "        s.append(re.sub((r'\\W+'), '',c))\n",
    "    data_white = data_white.set_axis(['old'],axis=1, inplace = False)\n",
    "    data_white = data_white['old'].str.split(';', expand=True)\n",
    "    red_wine = data_red.set_axis(s,axis=1,inplace = False)\n",
    "    white_wine = data_white.set_axis(s,axis=1,inplace = False)\n",
    "    return red_wine, white_wine\n",
    "    "
   ]
  },
  {
   "cell_type": "code",
   "execution_count": 103,
   "id": "b87be031-72d9-4d20-b8a3-ca2fc8695fd8",
   "metadata": {},
   "outputs": [],
   "source": [
    "red_wine, white_wine = prepareData()"
   ]
  },
  {
   "cell_type": "code",
   "execution_count": null,
   "id": "27151ee7-9664-4ac8-9629-da2d9fefaacf",
   "metadata": {},
   "outputs": [],
   "source": []
  },
  {
   "cell_type": "code",
   "execution_count": null,
   "id": "1ef822cd-ef81-449f-970f-89f2e830e373",
   "metadata": {},
   "outputs": [],
   "source": []
  }
 ],
 "metadata": {
  "kernelspec": {
   "display_name": "Python 3.8",
   "language": "python",
   "name": "python3"
  },
  "language_info": {
   "codemirror_mode": {
    "name": "ipython",
    "version": 3
   },
   "file_extension": ".py",
   "mimetype": "text/x-python",
   "name": "python",
   "nbconvert_exporter": "python",
   "pygments_lexer": "ipython3",
   "version": "3.8.6"
  }
 },
 "nbformat": 4,
 "nbformat_minor": 5
}
